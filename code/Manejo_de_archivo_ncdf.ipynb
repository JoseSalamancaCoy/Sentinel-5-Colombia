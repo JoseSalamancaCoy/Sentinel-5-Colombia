{
 "cells": [
  {
   "cell_type": "code",
   "execution_count": null,
   "metadata": {},
   "outputs": [],
   "source": [
    "from netCDF4 import Dataset\n",
    "import os, sys\n",
    "import numpy as np\n",
    "import matplotlib.pyplot as plt\n",
    "from shapely.geometry import Polygon\n",
    "import pandas as pd\n",
    "import geopandas as gpd\n",
    "from mpl_toolkits.axes_grid1 import make_axes_locatable\n"
   ]
  },
  {
   "cell_type": "code",
   "execution_count": null,
   "metadata": {},
   "outputs": [],
   "source": [
    "path = '../products/'\n",
    "files_ncdf = sorted((\"{}{}\".format(path,fn) for fn in os.listdir('../products') if fn.endswith('.ncdf')))"
   ]
  },
  {
   "cell_type": "code",
   "execution_count": null,
   "metadata": {},
   "outputs": [],
   "source": [
    "rootgrp = Dataset(files_ncdf[0], \"r\", format=\"NETCDF4\") #Importa el dataset"
   ]
  },
  {
   "cell_type": "code",
   "execution_count": null,
   "metadata": {},
   "outputs": [],
   "source": [
    "rootgrp"
   ]
  },
  {
   "cell_type": "code",
   "execution_count": null,
   "metadata": {},
   "outputs": [],
   "source": [
    " # ***** Se extraen las variables de interes del archivo .ncdf para luego procesar ******#\n",
    "Time = {}\n",
    "Time[\"start\"] = rootgrp.time_coverage_start \n",
    "Time[\"end\"] = rootgrp.time_coverage_end\n",
    "Time[\"create\"] = rootgrp.date_created\n",
    "\n",
    "geospatial = {}\n",
    "geospatial[\"lat_min\"] = rootgrp.geospatial_lat_min\n",
    "geospatial[\"lat_max\"] = rootgrp.geospatial_lat_max\n",
    "geospatial[\"lon_min\"] = rootgrp.geospatial_lon_min\n",
    "geospatial[\"lon_max\"] = rootgrp.geospatial_lon_max\n",
    "\n",
    "AERO_340_380_precision = rootgrp.groups['PRODUCT'].variables['aerosol_index_340_380_precision'][:].data[0]\n",
    "AERO_340_380 = rootgrp.groups['PRODUCT'].variables['aerosol_index_340_380'][:].data[0]\n",
    "AERO_354_388_precision = rootgrp.groups['PRODUCT'].variables['aerosol_index_354_388_precision'][:].data[0]\n",
    "AERO_354_388 = rootgrp.groups['PRODUCT'].variables['aerosol_index_354_388'][:].data[0]\n",
    "\n",
    "latitude  = rootgrp.groups['PRODUCT'].variables['latitude'][:].data[0]\n",
    "longitude = rootgrp.groups['PRODUCT'].variables['longitude'][:].data[0]\n",
    "\n",
    "# **************************************************************************************  #\n"
   ]
  },
  {
   "cell_type": "code",
   "execution_count": null,
   "metadata": {},
   "outputs": [],
   "source": [
    "    \n",
    "   \n",
    "    \n",
    "\n",
    "#  ***********   Se estructura la data para poder graficar con geopandas    ************  #\n",
    "df = pd.DataFrame(\n",
    "{'Data' : np.hstack(AERO_340_380),\n",
    " 'Presicion' : np.hstack(AERO_340_380_precision),\n",
    " 'Latitude': np.hstack(latitude),\n",
    " 'Longitude': np.hstack(longitude)\n",
    "})\n",
    "\n",
    "\n",
    "gdf = gpd.GeoDataFrame( df, geometry=gpd.points_from_xy(df.Longitude, df.Latitude)) #Objeto Geopandas con datos de sentinel\n",
    "world = gpd.read_file(gpd.datasets.get_path('naturalearth_lowres')) #Objeto geopandas con pligono Mapamundi\n",
    "\n",
    "# ---  Ignorar latitudes y longitudes distintas a colombia\n",
    "gdf = gdf[gdf.Latitude > -5]\n",
    "gdf = gdf[gdf.Latitude < 12]\n",
    "gdf = gdf[gdf.Longitude > -80]\n",
    "gdf = gdf[gdf.Longitude < -66]\n",
    "# --------------------------------------------------------\n",
    "\n",
    "\n",
    "fig, axx = plt.subplots(1) #Inicializa objeto de imagen\n",
    "plt.close(fig)\n",
    "\n",
    "ax = world[world.name == \"Colombia\"].boundary.plot(\n",
    "    color='black', edgecolor='black', figsize= (15,12),zorder=2) #Base con dimenciones \"Latitud longitud\" de colombia\n",
    "\n",
    "divider = make_axes_locatable(ax) \n",
    "cax = divider.append_axes(\"right\", size=\"6%\", pad=0.1) #Barra de colores para datos Sentinel 5\n",
    "\n",
    "axx = gdf.plot(column='Data', ax=ax,  legend=True, cax=cax,zorder=1,cmap='gnuplot') #Se grafica 'Data' que contiene datos Sentinel\n",
    "axx.set_axis_off()\n",
    "\n",
    "axx.set_title(rootgrp.time_coverage_end )\n",
    "axx.tick_params(labelsize=20)\n"
   ]
  },
  {
   "cell_type": "code",
   "execution_count": null,
   "metadata": {},
   "outputs": [],
   "source": []
  }
 ],
 "metadata": {
  "kernelspec": {
   "display_name": "Python 3",
   "language": "python",
   "name": "python3"
  },
  "language_info": {
   "codemirror_mode": {
    "name": "ipython",
    "version": 3
   },
   "file_extension": ".py",
   "mimetype": "text/x-python",
   "name": "python",
   "nbconvert_exporter": "python",
   "pygments_lexer": "ipython3",
   "version": "3.7.3"
  }
 },
 "nbformat": 4,
 "nbformat_minor": 2
}
